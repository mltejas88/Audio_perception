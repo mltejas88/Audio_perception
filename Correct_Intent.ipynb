{
 "cells": [
  {
   "cell_type": "code",
   "execution_count": null,
   "id": "feb7b107",
   "metadata": {},
   "outputs": [],
   "source": [
    "import torch\n",
    "import whisper\n",
    "import pyaudio\n",
    "import wave\n",
    "from transformers import BertTokenizer, BertForSequenceClassification\n",
    "from torch.utils.data import DataLoader, Dataset\n",
    "import os\n",
    "import torch\n",
    "import torchaudio\n",
    "from transformers import Wav2Vec2ForCTC, Wav2Vec2Tokenizer\n",
    "\n",
    "from rapidfuzz import process\n",
    "\n",
    "intent_labels = [\"MOVE_FORWARD\", \"TURN_LEFT\", \"STOP\", \"TURN_RIGHT\"]\n",
    "\n",
    "tokenizer = BertTokenizer.from_pretrained(\"bert-base-uncased\")\n",
    "model = BertForSequenceClassification.from_pretrained(\"bert-base-uncased\", num_labels=4)\n",
    "model.load_state_dict(torch.load(\"models/intent_model.pt\", map_location=torch.device('cpu')))\n",
    "model.eval()\n",
    "\n",
    "command_phrases = [\"move forward\", \"turn left\", \"stop\", \"turn right\"]\n",
    "\n",
    "def correct_command(text):\n",
    "    best_match, score, _ = process.extractOne(text.lower(), command_phrases)\n",
    "    if score > 70:\n",
    "        return best_match\n",
    "    return text.lower()\n",
    "\n",
    "def predict_intent(text):\n",
    "    corrected_text = correct_command(text)\n",
    "    inputs = tokenizer(corrected_text, return_tensors=\"pt\", truncation=True, padding=True, max_length=32)\n",
    "    with torch.no_grad():\n",
    "        outputs = model(**inputs)\n",
    "        predicted = torch.argmax(outputs.logits, dim=1)\n",
    "    return intent_labels[predicted.item()]\n",
    "\n",
    "# Example usage:\n",
    "recognized_text = \"ton right ton ight\"\n",
    "intent = predict_intent(recognized_text)\n",
    "print(\"Detected intent:\", intent)"
   ]
  },
  {
   "cell_type": "markdown",
   "id": "157c468f",
   "metadata": {},
   "source": [
    "Correct intent code to be used with recognising words if not pronounced properly."
   ]
  }
 ],
 "metadata": {
  "kernelspec": {
   "display_name": "Python 3",
   "language": "python",
   "name": "python3"
  },
  "language_info": {
   "codemirror_mode": {
    "name": "ipython",
    "version": 3
   },
   "file_extension": ".py",
   "mimetype": "text/x-python",
   "name": "python",
   "nbconvert_exporter": "python",
   "pygments_lexer": "ipython3",
   "version": "3.13.3"
  }
 },
 "nbformat": 4,
 "nbformat_minor": 5
}
