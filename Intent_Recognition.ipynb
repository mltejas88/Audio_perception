{
 "cells": [
  {
   "cell_type": "code",
   "execution_count": null,
   "id": "a0833358",
   "metadata": {},
   "outputs": [],
   "source": [
    "# train_intent_classifier.py\n",
    "from transformers import BertTokenizer, BertForSequenceClassification\n",
    "from torch.utils.data import DataLoader, Dataset\n",
    "import torch\n",
    "\n",
    "class IntentDataset(Dataset):\n",
    "    def __init__(self, texts, labels, tokenizer):\n",
    "        self.texts = texts\n",
    "        self.labels = labels\n",
    "        self.tokenizer = tokenizer\n",
    "\n",
    "    def __getitem__(self, idx):\n",
    "        encoding = self.tokenizer(self.texts[idx], truncation=True, padding='max_length', max_length=32, return_tensors=\"pt\")\n",
    "        item = {key: val.squeeze() for key, val in encoding.items()}\n",
    "        item[\"labels\"] = torch.tensor(self.labels[idx])\n",
    "        return item\n",
    "\n",
    "    def __len__(self):\n",
    "        return len(self.texts)\n",
    "\n",
    "# Sample training\n",
    "tokenizer = BertTokenizer.from_pretrained(\"bert-base-uncased\")\n",
    "texts = [\"move forward\", \"turn left\", \"stop\", \"turn right\"]\n",
    "labels = [0, 1, 2, 3]\n",
    "dataset = IntentDataset(texts, labels, tokenizer)\n",
    "dataloader = DataLoader(dataset, batch_size=2, shuffle=True)\n",
    "\n",
    "model = BertForSequenceClassification.from_pretrained(\"bert-base-uncased\", num_labels=4)\n",
    "optimizer = torch.optim.AdamW(model.parameters(), lr=5e-5)\n",
    "\n",
    "model.train()\n",
    "for epoch in range(5):\n",
    "    for batch in dataloader:\n",
    "        outputs = model(**batch)\n",
    "        loss = outputs.loss\n",
    "        loss.backward()\n",
    "        optimizer.step()\n",
    "        optimizer.zero_grad()\n",
    "\n",
    "torch.save(model.state_dict(), \"models/intent_model.pt\")\n"
   ]
  },
  {
   "cell_type": "markdown",
   "id": "9f4fa0d2",
   "metadata": {},
   "source": [
    "The above code is used for training the model"
   ]
  },
  {
   "cell_type": "markdown",
   "id": "0ebdbe46",
   "metadata": {},
   "source": [
    "Intent Recognition using BERT (Bidirectional Encoder Representations from Transformers).\n",
    "Intent recognition is the task of classifying what the user intends to do based on their input — e.g., in a chatbot:\n",
    "\n",
    "\"What's the weather like?\" → get_weather\n",
    "\n",
    "\"Play some music\" → play_music\n",
    "\n",
    "\"Book a flight\" → book_flight\n",
    "\n",
    "\n",
    "The below code represent the trained model which you had saved after training\n",
    "\n"
   ]
  },
  {
   "cell_type": "code",
   "execution_count": null,
   "id": "e4459a94",
   "metadata": {},
   "outputs": [],
   "source": [
    "# intent_classifier.py\n",
    "from transformers import BertTokenizer, BertForSequenceClassification\n",
    "import torch\n",
    "\n",
    "intent_labels = [\"MOVE_FORWARD\", \"TURN_LEFT\", \"STOP\", \"TURN_RIGHT\"]\n",
    "\n",
    "tokenizer = BertTokenizer.from_pretrained(\"bert-base-uncased\")\n",
    "model = BertForSequenceClassification.from_pretrained(\"bert-base-uncased\", num_labels=4)\n",
    "model.load_state_dict(torch.load(\"models/intent_model.pt\"))\n",
    "model.eval()\n",
    "\n",
    "def predict_intent(text):\n",
    "    inputs = tokenizer(text, return_tensors=\"pt\", truncation=True, padding=True, max_length=32)\n",
    "    with torch.no_grad():\n",
    "        outputs = model(**inputs)\n",
    "        predicted = torch.argmax(outputs.logits, dim=1)\n",
    "    return intent_labels[predicted.item()]"
   ]
  }
 ],
 "metadata": {
  "kernelspec": {
   "display_name": "Python 3",
   "language": "python",
   "name": "python3"
  },
  "language_info": {
   "codemirror_mode": {
    "name": "ipython",
    "version": 3
   },
   "file_extension": ".py",
   "mimetype": "text/x-python",
   "name": "python",
   "nbconvert_exporter": "python",
   "pygments_lexer": "ipython3",
   "version": "3.13.3"
  }
 },
 "nbformat": 4,
 "nbformat_minor": 5
}
