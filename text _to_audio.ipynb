{
 "cells": [
  {
   "cell_type": "code",
   "execution_count": null,
   "id": "34dda179",
   "metadata": {},
   "outputs": [],
   "source": [
    "from gtts import gTTS\n",
    "import os\n",
    "\n",
    "text = \"turn left\"\n",
    "tts = gTTS(text)\n",
    "tts.save(\"audio_file.wav\")  # Saves the audio as a WAV file\n",
    "\n",
    "print(\"✅ 'audio_file.wav' generated!\")\n",
    "\n",
    "# Optional: Play it\n",
    "os.system(\"start turn_left.wav\")  # Windows\n",
    "# For Mac: os.system(\"afplay turn_left.wav\")\n",
    "# For Linux: os.system(\"aplay turn_left.wav\")\n"
   ]
  },
  {
   "cell_type": "markdown",
   "id": "e2b0ae1b",
   "metadata": {},
   "source": [
    "Use this file to generate audio command file, if there is any recording issue"
   ]
  }
 ],
 "metadata": {
  "kernelspec": {
   "display_name": "Python 3",
   "language": "python",
   "name": "python3"
  },
  "language_info": {
   "codemirror_mode": {
    "name": "ipython",
    "version": 3
   },
   "file_extension": ".py",
   "mimetype": "text/x-python",
   "name": "python",
   "nbconvert_exporter": "python",
   "pygments_lexer": "ipython3",
   "version": "3.13.3"
  }
 },
 "nbformat": 4,
 "nbformat_minor": 5
}
