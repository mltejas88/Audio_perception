{
 "cells": [
  {
   "cell_type": "markdown",
   "id": "eb9d654f",
   "metadata": {},
   "source": [
    "Audio Input : Task1 : Microphone input capture\n",
    "1) Defines a function named record_audio.\n",
    "filename: The output file name, default is \"command.wav\".\n",
    "duration: How long to record (in seconds), default is 4 seconds.\n",
    "rate: The sample rate (samples per second), default is 16,000 Hz — common in speech processing\n",
    "\n",
    "2) Creates an instance of PyAudio, which is needed to work with audio devices.\n",
    "\n",
    "3) Opens an audio input stream with:\n",
    "format=pyaudio.paInt16: 16-bit audio samples (standard for speech).\n",
    "channels=1: Mono audio.\n",
    "rate=rate: Sample rate (16000 Hz).\n",
    "input=True: Enable recording from the microphone.\n",
    "frames_per_buffer=1024: Number of samples per read.\n",
    "\n",
    "4) Reads audio data in chunks of 1024 frames, for the total number of chunks equal to:\n",
    "rate / 1024 * duration\n",
    "(e.g., 16000 / 1024 * 4 ≈ 62 chunks for 4 seconds)\n",
    "Each chunk is added to the list frames.\n",
    "\n",
    "5) Stops the audio stream. Closes the stream and releases resources. Terminates the PyAudio instance to clean up.\n",
    "\n",
    "6) Opens a new WAV file in write-binary mode ('wb') using the wave module.Sets the number of channels to 1 (mono).Sets the sample width (number of bytes per sample) based on paInt16 (2 bytes/sample).\n",
    "Sets the sample rate to match the recording rate (16000 Hz).Joins all recorded chunks (frames) into one bytestring and writes to the WAV file."
   ]
  },
  {
   "cell_type": "code",
   "execution_count": 3,
   "id": "49211af2",
   "metadata": {},
   "outputs": [],
   "source": [
    "import pyaudio\n",
    "import wave\n",
    "\n",
    "def record_audio(filename=\"command.wav\", duration=4, rate=16000):\n",
    "    p = pyaudio.PyAudio()\n",
    "    stream = p.open(format=pyaudio.paInt16, channels=1, rate=rate, input=True, frames_per_buffer=1024)\n",
    "    frames = [stream.read(1024) for _ in range(0, int(rate / 1024 * duration))]\n",
    "    stream.stop_stream(); stream.close(); p.terminate()\n",
    "\n",
    "    with wave.open(filename, 'wb') as wf:\n",
    "        wf.setnchannels(1); wf.setsampwidth(p.get_sample_size(pyaudio.paInt16)); wf.setframerate(rate)\n",
    "        wf.writeframes(b''.join(frames))\n",
    "\n",
    "    return filename\n"
   ]
  }
 ],
 "metadata": {
  "kernelspec": {
   "display_name": "Python 3",
   "language": "python",
   "name": "python3"
  },
  "language_info": {
   "codemirror_mode": {
    "name": "ipython",
    "version": 3
   },
   "file_extension": ".py",
   "mimetype": "text/x-python",
   "name": "python",
   "nbconvert_exporter": "python",
   "pygments_lexer": "ipython3",
   "version": "3.13.3"
  }
 },
 "nbformat": 4,
 "nbformat_minor": 5
}
